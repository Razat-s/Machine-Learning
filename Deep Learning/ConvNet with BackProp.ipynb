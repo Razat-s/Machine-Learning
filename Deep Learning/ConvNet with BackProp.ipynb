{
 "cells": [
  {
   "cell_type": "code",
   "execution_count": 1,
   "metadata": {
    "collapsed": true
   },
   "outputs": [],
   "source": [
    "import numpy as np\n",
    "import random as rd\n",
    "import math as math\n",
    "from PIL import Image\n",
    "import matplotlib.pyplot as plt\n",
    "%matplotlib inline\n",
    "from IPython.display import display"
   ]
  },
  {
   "cell_type": "code",
   "execution_count": 2,
   "metadata": {
    "collapsed": true
   },
   "outputs": [],
   "source": [
    "import tensorflow"
   ]
  },
  {
   "cell_type": "code",
   "execution_count": 3,
   "metadata": {
    "collapsed": false
   },
   "outputs": [
    {
     "name": "stderr",
     "output_type": "stream",
     "text": [
      "WARNING:tensorflow:From <ipython-input-3-3e89ca988f52>:9: read_data_sets (from tensorflow.contrib.learn.python.learn.datasets.mnist) is deprecated and will be removed in a future version.\n",
      "Instructions for updating:\n",
      "Please use alternatives such as official/mnist/dataset.py from tensorflow/models.\n",
      "WARNING:tensorflow:From /home/nishanth/env/lib/python3.5/site-packages/tensorflow/contrib/learn/python/learn/datasets/mnist.py:260: maybe_download (from tensorflow.contrib.learn.python.learn.datasets.base) is deprecated and will be removed in a future version.\n",
      "Instructions for updating:\n",
      "Please write your own downloading logic.\n",
      "WARNING:tensorflow:From /home/nishanth/env/lib/python3.5/site-packages/tensorflow/contrib/learn/python/learn/datasets/mnist.py:262: extract_images (from tensorflow.contrib.learn.python.learn.datasets.mnist) is deprecated and will be removed in a future version.\n",
      "Instructions for updating:\n",
      "Please use tf.data to implement this functionality.\n",
      "WARNING:tensorflow:From /home/nishanth/env/lib/python3.5/site-packages/tensorflow/contrib/learn/python/learn/datasets/mnist.py:267: extract_labels (from tensorflow.contrib.learn.python.learn.datasets.mnist) is deprecated and will be removed in a future version.\n",
      "Instructions for updating:\n",
      "Please use tf.data to implement this functionality.\n"
     ]
    },
    {
     "name": "stdout",
     "output_type": "stream",
     "text": [
      "Extracting MNIST data/train-images-idx3-ubyte.gz\n",
      "Extracting"
     ]
    },
    {
     "name": "stderr",
     "output_type": "stream",
     "text": [
      "WARNING:tensorflow:From /home/nishanth/env/lib/python3.5/site-packages/tensorflow/contrib/learn/python/learn/datasets/mnist.py:110: dense_to_one_hot (from tensorflow.contrib.learn.python.learn.datasets.mnist) is deprecated and will be removed in a future version.\n",
      "Instructions for updating:\n",
      "Please use tf.one_hot on tensors.\n"
     ]
    },
    {
     "name": "stdout",
     "output_type": "stream",
     "text": [
      " MNIST data/train-labels-idx1-ubyte.gz\n",
      "Extracting MNIST data/t10k-images-idx3-ubyte.gz\n",
      "Extracting"
     ]
    },
    {
     "name": "stderr",
     "output_type": "stream",
     "text": [
      "WARNING:tensorflow:From /home/nishanth/env/lib/python3.5/site-packages/tensorflow/contrib/learn/python/learn/datasets/mnist.py:290: DataSet.__init__ (from tensorflow.contrib.learn.python.learn.datasets.mnist) is deprecated and will be removed in a future version.\n",
      "Instructions for updating:\n",
      "Please use alternatives such as official/mnist/dataset.py from tensorflow/models.\n"
     ]
    },
    {
     "name": "stdout",
     "output_type": "stream",
     "text": [
      " MNIST data/t10k-labels-idx1-ubyte.gz\n"
     ]
    }
   ],
   "source": [
    "\n",
    "\"\"\"\n",
    "Load the MNIST dataset into numpy arrays\n",
    "Author: Alexandre Drouin\n",
    "License: BSD\n",
    "\"\"\"\n",
    "import numpy as np\n",
    "from tensorflow.examples.tutorials.mnist import input_data\n",
    "mnist = input_data.read_data_sets(\"MNIST data/\", one_hot=True)\n",
    "X_train = np.vstack([img.reshape((28, 28)) for img in mnist.train.images])\n",
    "y_train = mnist.train.labels\n",
    "X_test = np.vstack([img.reshape(28, 28) for img in mnist.test.images])\n",
    "y_test = mnist.test.labels\n",
    "del mnist"
   ]
  },
  {
   "cell_type": "code",
   "execution_count": 4,
   "metadata": {
    "collapsed": false
   },
   "outputs": [
    {
     "name": "stdout",
     "output_type": "stream",
     "text": [
      "shape of X train= (1540000, 28)\n",
      "shape of y train= (55000, 10)\n",
      "shape of X test= (280000, 28)\n",
      "shape of y test= (280000, 28)\n"
     ]
    }
   ],
   "source": [
    "print('shape of X train=',X_train.shape)\n",
    "print('shape of y train=',y_train.shape)\n",
    "print('shape of X test=',X_test.shape)\n",
    "print('shape of y test=',X_test.shape)"
   ]
  },
  {
   "cell_type": "code",
   "execution_count": 5,
   "metadata": {
    "collapsed": false
   },
   "outputs": [
    {
     "name": "stdout",
     "output_type": "stream",
     "text": [
      "shape of train input volume= (55000, 1, 28, 28)\n",
      "shape of train labels= (55000, 10)\n",
      "shape of test input volume= (10000, 1, 28, 28)\n",
      "shape of test labels= (10000, 10)\n"
     ]
    }
   ],
   "source": [
    "##################################################################\n",
    "# reshaping numpy array into volume  for train and test set \n",
    "#################################################################\n",
    "X_train=np.reshape(X_train,(-1,1,28,28))\n",
    "y_train=np.reshape(y_train,(-1,10))\n",
    "X_test=np.reshape(X_test,(-1,1,28,28))\n",
    "y_test=np.reshape(y_test,(-1,10))\n",
    "print('shape of train input volume=',X_train.shape)\n",
    "print('shape of train labels=',y_train.shape)\n",
    "print('shape of test input volume=',X_test.shape)\n",
    "print('shape of test labels=',y_test.shape)"
   ]
  },
  {
   "cell_type": "code",
   "execution_count": 6,
   "metadata": {
    "collapsed": false
   },
   "outputs": [
    {
     "name": "stdout",
     "output_type": "stream",
     "text": [
      "shape of train input volume= (1000, 1, 28, 28)\n",
      "shape of train labels= (1000, 10)\n",
      "shape of test input volume= (500, 1, 28, 28)\n",
      "shape of test labels= (500, 10)\n"
     ]
    }
   ],
   "source": [
    "#############################################################\n",
    "# subsample of dataset\n",
    "###########################################################\n",
    "X_train=X_train[0:1000,:,:,:]\n",
    "y_train=y_train[0:1000,:]\n",
    "X_test=X_test[0:500,:,:,:]\n",
    "y_test=y_test[0:500,:]\n",
    "print('shape of train input volume=',X_train.shape)\n",
    "print('shape of train labels=',y_train.shape)\n",
    "print('shape of test input volume=',X_test.shape)\n",
    "print('shape of test labels=',y_test.shape)"
   ]
  },
  {
   "cell_type": "code",
   "execution_count": 7,
   "metadata": {
    "collapsed": true
   },
   "outputs": [],
   "source": [
    "num_data=num_train=X_train.shape[0]\n",
    "num_test=X_test.shape[0]\n"
   ]
  },
  {
   "cell_type": "code",
   "execution_count": 8,
   "metadata": {
    "collapsed": false
   },
   "outputs": [],
   "source": [
    "# no. of convolutional layers\n",
    "N_conv=2"
   ]
  },
  {
   "cell_type": "code",
   "execution_count": 9,
   "metadata": {
    "collapsed": false
   },
   "outputs": [],
   "source": [
    "def conv(num_data,C_o,W_o,H_o,x_padded,F,S,kernels,bias,output):\n",
    "    for i, j in zip(range(H_o), range(W_o)):\n",
    "        data_receptive_field = x_padded[:, :, i*S:i*S + F, j*S:j*S + F]\n",
    "        data_receptive_field = data_receptive_field.reshape(num_data, -1)\n",
    "        tmp_filter = kernels.reshape(N, -1)\n",
    "        tmp_data = np.array((data_receptive_field, )*N).transpose([1, 0, 2])\n",
    "        tmp_filter = np.array((tmp_filter,)*num_data)\n",
    "        convolution_value = np.sum(tmp_data*tmp_filter, axis = 2)\n",
    "        output[:, :, i, j] = convolution_value + bias \n",
    "    \n",
    "    return output"
   ]
  },
  {
   "cell_type": "code",
   "execution_count": 10,
   "metadata": {
    "collapsed": true
   },
   "outputs": [],
   "source": [
    "########################################################\n",
    "#  apply ReLU non-linearity on convolved image(output) #\n",
    "#  return activation volume (output) (variables are same)                  \n",
    "#########################################################\n",
    "def relu_activation(num_data,N,output):\n",
    "    for l in range(num_data):\n",
    "        for i in range(N):\n",
    "            output[l,i,:,:]=np.maximum(0,output[l,i,:,:])\n",
    "    return output"
   ]
  },
  {
   "cell_type": "code",
   "execution_count": 11,
   "metadata": {
    "collapsed": true
   },
   "outputs": [],
   "source": [
    "################################################################\n",
    "#   this function take input as activation volume(act_output)  #\n",
    "#   and return pooled output volume (pool_output)              #\n",
    "#################################################################\n",
    "def pooling(num_data,C_p,W_p,H_p,pool_S,pool,act_output,pool_output):\n",
    "    for i, j in zip(range(H_p), range(W_p)):\n",
    "        data_receptive_field = act_output[:, :, i*pool_S:i*pool_S + pool, j*pool_S:j*pool_S + pool]\n",
    "        pool_output[:, :, i, j] = data_receptive_field.max(axis = (2, 3))\n",
    "           \n",
    "    return pool_output"
   ]
  },
  {
   "cell_type": "code",
   "execution_count": 12,
   "metadata": {
    "collapsed": true
   },
   "outputs": [],
   "source": [
    "############################################################\n",
    "#   this function take input volume and return pooled      #\n",
    "#   output volume                                          #\n",
    "############################################################\n",
    "def convolutional_layer(S,N,F,pool,pool_S,pad,arr,kernels,bias):\n",
    "    \n",
    "    num_data,C,W,H=np.shape(arr)\n",
    "        \n",
    "    # padding of input images\n",
    "    x_padded = np.pad(arr, ((0, 0), (0, 0), (pad, pad), (pad, pad)), \"constant\")\n",
    "\n",
    "    #print(\"original input dimension =\",arr.shape)\n",
    "    #print(\"input dimension after padding=\",x_padded.shape)\n",
    "   \n",
    "    # ouput dimension\n",
    "    W_o=int(((W-F+(2*pad))/S)+1)\n",
    "    H_o=int(((H-F+(2*pad))/S)+1)\n",
    "    C_o=N\n",
    "    output=np.zeros((num_data,C_o,W_o,H_o))\n",
    "    #print(\"output dimension=\",output.shape)\n",
    "    \n",
    "    # convolved output image\n",
    "    output=conv(num_data,C_o,W_o,H_o,x_padded,F,S,kernels,bias,output)\n",
    "    \n",
    "    # activation image\n",
    "    act_output=relu_activation(num_data,N,output)\n",
    "    \n",
    "    num_data,C_a,W_a,H_a=act_output.shape\n",
    "    \n",
    "    # pooled output dimension\n",
    "    W_p=int(((W_a-pool)/pool_S)+1)\n",
    "    H_p=int(((H_a-pool)/pool_S)+1)\n",
    "    C_p=C_a\n",
    "    pool_output=np.zeros((num_data,C_p,W_p,H_p))\n",
    "    #print(\"pooled output dimension=\",pool_output.shape)\n",
    "    \n",
    "    # pooled output image\n",
    "    pooled_output=pooling(num_data,C_p,W_p,H_p,pool_S,pool,act_output,pool_output)\n",
    "    \n",
    "    return act_output,pooled_output"
   ]
  },
  {
   "cell_type": "markdown",
   "metadata": {},
   "source": [
    "#  train data set"
   ]
  },
  {
   "cell_type": "code",
   "execution_count": 43,
   "metadata": {
    "collapsed": true
   },
   "outputs": [],
   "source": [
    "convnet_layer={} # this dictionary will store pooled ouput volume of each convolutional layers\n",
    "activation_output={}\n",
    "kernels={}\n",
    "bias={}\n",
    "W_mlp={}\n",
    "b_mlp={}\n",
    "losses=[]\n",
    "weight=None\n",
    "train_accuracy=[]\n",
    "arr=X_train\n",
    "num_data=X_train.shape[0]\n",
    "convnet_layer[0]=arr\n",
    "epoch=int(3)\n"
   ]
  },
  {
   "cell_type": "code",
   "execution_count": 44,
   "metadata": {
    "collapsed": false,
    "scrolled": false
   },
   "outputs": [
    {
     "name": "stdout",
     "output_type": "stream",
     "text": [
      "EPOCH-- 0\n",
      "loss= 2.30258406994\n",
      "training accuracy 0.093\n",
      "EPOCH-- 1\n",
      "loss= 2.30241495534\n",
      "training accuracy 0.115\n",
      "EPOCH-- 2\n",
      "loss= 2.30216137089\n",
      "training accuracy 0.115\n"
     ]
    }
   ],
   "source": [
    "for t in range(epoch):\n",
    "    print(\"EPOCH--\",t)\n",
    "    for i in range(1,N_conv+1):\n",
    "        if i==1:\n",
    "            #print(\"CONVOLUTIONAL LAYER\",i)\n",
    "            # filter size\n",
    "            F=5\n",
    "            # no. of kernels\n",
    "            N=32\n",
    "            # stride\n",
    "            S=1\n",
    "            # padding\n",
    "            pad=int((F-1)/2)\n",
    "            # pooling size\n",
    "            pool=2\n",
    "            # pooling stride\n",
    "            pool_S=2\n",
    "            arra=convnet_layer[i-1]\n",
    "            if t==0:\n",
    "                C=convnet_layer[i-1].shape[1]\n",
    "                # initializing kernels     \n",
    "                kernels[1]=np.random.rand(N,C,F,F)\n",
    "                # initializing biases\n",
    "                bias[1]=np.zeros(N)\n",
    "\n",
    "\n",
    "            activation_output[i],convnet_layer[i]=convolutional_layer(S,N,F,pool,pool_S,pad,arr=convnet_layer[i-1],kernels=kernels[i],bias=bias[i])\n",
    "        if i==2:\n",
    "            #print(\"CONVOLUTIONAL LAYER\",i)\n",
    "            # filter size\n",
    "            F=5\n",
    "            # no. of kernels\n",
    "            N=64\n",
    "            # stride\n",
    "            S=1\n",
    "            # padding\n",
    "            pad=int((F-1)/2)\n",
    "            # pooling size\n",
    "            pool=2\n",
    "            # pooling stride\n",
    "            pool_S=2\n",
    "            arra=convnet_layer[i-1]\n",
    "            if t==0:\n",
    "                C=convnet_layer[i-1].shape[1]\n",
    "                # initializing kernels     \n",
    "                kernels[2]=np.random.rand(N,C,F,F)\n",
    "                # initializing biases\n",
    "                bias[2]=np.zeros(N)\n",
    "\n",
    "\n",
    "            activation_output[i],convnet_layer[i]=convolutional_layer(S,N,F,pool,pool_S,pad,arr=convnet_layer[i-1],kernels=kernels[i],bias=bias[i])\n",
    "    \n",
    "    #################################################################\n",
    "    # unraveling\n",
    "    ##################################################################\n",
    "    z=convnet_layer[N_conv]\n",
    "    conv_output=z\n",
    "    # reshaping convolutional output into vector\n",
    "    conv_vec=np.reshape(conv_output,(num_data,-1))\n",
    "    #print(\"shape of convolutional layer output as vector=\",conv_vec.shape)\n",
    "\n",
    "    # initializing weight matrix for conversion of convolutional output into Fully connected input\n",
    "\n",
    "    # size of input layer\n",
    "    nodes=1024\n",
    "\n",
    "    weight=1e-4*np.random.rand(conv_vec.shape[1],nodes)\n",
    "    fc_in=np.dot(conv_vec,weight)  \n",
    "\n",
    "    \n",
    "    ##########################################################    \n",
    "    X=fc_in\n",
    "    input_size=X.shape[1]\n",
    "    hidden_size=500\n",
    "    output_size=10\n",
    "    \n",
    "\n",
    "    std=1e-4\n",
    "    if t==0:\n",
    "        W1 = std * np.random.randn(input_size, hidden_size)\n",
    "        b1 = np.zeros(hidden_size)\n",
    "        W2 = std * np.random.randn(hidden_size, output_size)\n",
    "        b2 = np.zeros(output_size)\n",
    "\n",
    "    relu=lambda x: np.maximum(0,x)\n",
    "    h1=relu(np.dot(X,W1)+b1)\n",
    "    h2=np.dot(h1,W2)+b2\n",
    "    scores=h2\n",
    "\n",
    "\n",
    "    ###softmax loss\n",
    "    scores -=np.reshape(np.max(scores,axis=1),(num_data,1))\n",
    "    p = np.exp(scores) / np.sum(np.exp(scores), axis=1, keepdims=True)\n",
    "    index_correct_class=[range(num_data),np.argmax(y_train,axis=1)] #indexes of correct class\n",
    "    correct_class_score= np.reshape(p[index_correct_class[0],index_correct_class[1]],(num_data,1))\n",
    "\n",
    "    loss = np.sum(-np.log(correct_class_score))\n",
    "    loss /= num_data\n",
    "    \n",
    "    reg=5e-6\n",
    "    loss += reg * (np.sum(W1 * W1) + np.sum(W2 * W2))\n",
    "    print(\"loss=\",loss)\n",
    "    losses=np.append(losses,loss)\n",
    "    #print(\"size of output vector=\",p.shape) \n",
    "    \n",
    "    ###############################################################################################3\n",
    "    # Backward pass: compute gradients\n",
    "    grads = {}\n",
    "    # gradient on scores\n",
    "    dscores=p\n",
    "    dscores[index_correct_class] -=1\n",
    "    dscores/=num_data\n",
    "\n",
    "    #gradient on W2\n",
    "    grads['W2']=np.dot(h1.T,dscores)\n",
    "    #gradient on b2\n",
    "    grads['b2']=np.sum(dscores,axis=0)\n",
    "\n",
    "    #backprop to hidden layer\n",
    "    dhidden= np.dot(dscores, W2.T)\n",
    "    dhidden[h1 <=0] =0\n",
    "\n",
    "    #gradient on W2\n",
    "    grads['W1']= np.dot(X.T,dhidden)\n",
    "    #gradient on b2\n",
    "    grads['b1']=np.sum(dhidden,axis=0)\n",
    "\n",
    "\n",
    "    #adding regularization\n",
    "    grads['W2']+=reg*W2\n",
    "    grads['W1']+=reg*W1\n",
    "\n",
    "    learning_rate=1e-1\n",
    "\n",
    "    # updating parameters\n",
    "    W1 -=learning_rate*grads['W1']\n",
    "    W2 -=learning_rate*grads['W2']\n",
    "    b1 -=learning_rate*grads['b1']\n",
    "    b2 -=learning_rate*grads['b2']\n",
    "    W_mlp[1]=W1\n",
    "    W_mlp[2]=W2\n",
    "    b_mlp[1]=b1\n",
    "    b_mlp[2]=b2\n",
    "\n",
    "    # training accuracy\n",
    "    train_acc = (np.argmax(h2,1) == np.argmax(y_train,1)).mean()\n",
    "    print('training accuracy',train_acc)\n",
    "    train_accuracy=np.append(train_accuracy,train_acc)\n",
    "    #val_acc = (self.predict(X_val) == y_val).mean()\n",
    "    \n",
    "    #########################################################################\n",
    "    # backpropagation in unravel\n",
    "    dX= np.dot(dhidden,W1.T)\n",
    "    grads['weight']=np.dot(conv_vec.T,dX)\n",
    "\n",
    "\n",
    "    dconv_vec=np.dot(dX,weight.T)\n",
    "\n",
    "    weight -=learning_rate*grads['weight']\n",
    "    dconv_vec=np.reshape(dconv_vec,(conv_output.shape))\n",
    "    #print(dconv_vec.shape)\n",
    "    \n",
    "    ##############################################################################\n",
    "    \n",
    "    #############################################################################\n",
    "    #   pooling backward pass  in convolutional layer 2                         #\n",
    "    #############################################################################\n",
    "    dact2 = None\n",
    "    # pooling size\n",
    "    pool=2\n",
    "    # pooling stride\n",
    "    pool_S=2\n",
    "    N, C, H, W = activation_output[2].shape\n",
    "\n",
    "    H_prime = int((H + - pool)/pool_S + 1)\n",
    "    W_prime = int((W + - pool)/pool_S + 1)\n",
    "\n",
    "    q=activation_output[2]\n",
    "    dact2 = np.zeros_like(activation_output[2])\n",
    "\n",
    "\n",
    "    for i, j in zip(range(H_prime),range(W_prime)):\n",
    "        data_receptive_field = q[:, :, i*pool_S:i*pool_S + pool, j*pool_S:j*pool_S + pool]\n",
    "\n",
    "        data_roll = data_receptive_field.reshape(N*C, -1)\n",
    "        data_maxgrad = (data_roll == np.row_stack(data_roll.max(axis = 1))).astype(\"int\")\n",
    "        grad_term = (data_maxgrad*dconv_vec[:, :, i, j].reshape(N*C, 1)).reshape(N, C, pool, pool)\n",
    "\n",
    "        dact2[:, :, i*pool_S:i*pool_S + pool, j*pool_S:j*pool_S + pool] += grad_term\n",
    "\n",
    "    ############################################################################################################\n",
    "    dx2, dw2, db2 = None, None, None\n",
    "    #############################################################################\n",
    "    #  convolutional backward pass in convolutional layer 2                     #\n",
    "    #############################################################################\n",
    "    # filter size\n",
    "    f=5\n",
    "\n",
    "    # stride\n",
    "    S=1\n",
    "    # padding\n",
    "    pad=int((f-1)/2)\n",
    "\n",
    "    N, C, H, W = convnet_layer[1].shape\n",
    "    F, _, HH, WW = kernels[2].shape\n",
    "    H_prime =int((H + 2*pad - HH)/S + 1)\n",
    "    W_prime = int((W + 2*pad - WW)/S + 1)\n",
    "    dx2 = np.zeros_like(convnet_layer[1])\n",
    "    dw2 = np.zeros_like(kernels[2])\n",
    "    db2 = np.zeros_like(bias[2])\n",
    "\n",
    "    # Zero padding on x\n",
    "    x2_padded = np.pad(convnet_layer[1], ((0, 0), (0, 0), (pad, pad), (pad, pad)), \"constant\")\n",
    "    dx2_padded = np.zeros_like(x2_padded)\n",
    "\n",
    "    # Derivative for db2\n",
    "    db2 = np.sum(dact2, axis = (0, 2, 3)) # only remain axis for F, diffrent filters\n",
    "\n",
    "    for i, j in zip(range(H_prime), range(W_prime)):\n",
    "        data_receptive_field = x2_padded[:, :, i*S:i*S + HH, j*S:j*S + WW]\n",
    "\n",
    "        # Derivative for dw2\n",
    "        tmp_field = np.array((data_receptive_field,)*F).transpose([1, 0, 2, 3, 4]).reshape(N*F, -1)\n",
    "        dw_tmp = (tmp_field*dact2[:, :, i, j].reshape(N*F, 1)).reshape(N, F, C, HH, WW)\n",
    "        dw2 += dw_tmp.sum(axis = 0)\n",
    "\n",
    "        # Derivative for dx2\n",
    "        tmp_filter = np.array((kernels[2],)*N).reshape(N*F, -1)\n",
    "        dx_tmp = (tmp_filter*dact2[:, :, i, j].reshape(N*F, 1)).reshape(N, F, C, HH, WW)\n",
    "        dx2_padded[:, :, i*S:i*S + HH, j*S:j*S + WW] += dx_tmp.sum(axis = 1)\n",
    "    # Unpad for dx\n",
    "    dx2 = dx2_padded[:, :, 1:-1, 1:-1]\n",
    "\n",
    "    kernels[2] += dw2\n",
    "    bias[2] += db2\n",
    "    \n",
    "    ####################################################################################################3\n",
    "    #############################################################################\n",
    "    #   pooling backward pass  in convolutional layer 1                         #\n",
    "    #############################################################################\n",
    "    dact1 = None\n",
    "    # pooling size\n",
    "    pool=2\n",
    "    # pooling stride\n",
    "    pool_S=2\n",
    "    N, C, H, W = activation_output[1].shape\n",
    "\n",
    "    H_prime = int((H + - pool)/pool_S + 1)\n",
    "    W_prime = int((W + - pool)/pool_S + 1)\n",
    "\n",
    "    q=activation_output[1]\n",
    "    dact1 = np.zeros_like(activation_output[1])\n",
    "\n",
    "\n",
    "    for i, j in zip(range(H_prime),range(W_prime)):\n",
    "        data_receptive_field = q[:, :, i*pool_S:i*pool_S + pool, j*pool_S:j*pool_S + pool]\n",
    "\n",
    "        data_roll = data_receptive_field.reshape(N*C, -1)\n",
    "        data_maxgrad = (data_roll == np.row_stack(data_roll.max(axis = 1))).astype(\"int\")\n",
    "        grad_term = (data_maxgrad*dx2[:, :, i, j].reshape(N*C, 1)).reshape(N, C, pool, pool)\n",
    "\n",
    "        dact1[:, :, i*pool_S:i*pool_S + pool, j*pool_S:j*pool_S + pool] += grad_term\n",
    "        \n",
    "    ##############################################################################################\n",
    "    dx1, dw1, db1 = None, None, None\n",
    "    #############################################################################\n",
    "    #  convolutional backward pass in convolutional layer 1                     #\n",
    "    #############################################################################\n",
    "\n",
    "    # filter size\n",
    "    f=5\n",
    "\n",
    "    # stride\n",
    "    S=1\n",
    "    # padding\n",
    "    pad=int((f-1)/2)\n",
    "\n",
    "    N, C, H, W = convnet_layer[0].shape\n",
    "    F, _, HH, WW = kernels[1].shape\n",
    "    H_prime = int((H + 2*pad - HH)/S + 1)\n",
    "    W_prime = int((W + 2*pad - WW)/S + 1)\n",
    "    dx1 = np.zeros_like(convnet_layer[0])\n",
    "    dw1 = np.zeros_like(kernels[1])\n",
    "    db1 = np.zeros_like(bias[1])\n",
    "\n",
    "    # Zero padding on x1\n",
    "    x1_padded = np.pad(convnet_layer[0], ((0, 0), (0, 0), (pad, pad), (pad, pad)), \"constant\")\n",
    "    dx1_padded = np.zeros_like(x1_padded)\n",
    "\n",
    "    # Derivative for db1\n",
    "    db1 = np.sum(dact1, axis = (0, 2, 3)) # only remain axis for F, diffrent filters\n",
    "\n",
    "    for i, j in zip(range(H_prime), range(W_prime)):\n",
    "        data_receptive_field = x1_padded[:, :, i*S:i*S + HH, j*S:j*S + WW]\n",
    "\n",
    "        # Derivative for dw1\n",
    "        tmp_field = np.array((data_receptive_field,)*F).transpose([1, 0, 2, 3, 4]).reshape(N*F, -1)\n",
    "        dw_tmp = (tmp_field*dact1[:, :, i, j].reshape(N*F, 1)).reshape(N, F, C, HH, WW)\n",
    "        dw1 += dw_tmp.sum(axis = 0)\n",
    "\n",
    "        # Derivative for dx1\n",
    "        tmp_filter = np.array((kernels[1],)*N).reshape(N*F, -1)\n",
    "        dx_tmp = (tmp_filter*dact1[:, :, i, j].reshape(N*F, 1)).reshape(N, F, C, HH, WW)\n",
    "        dx1_padded[:, :, i*S:i*S + HH, j*S:j*S + WW] += dx_tmp.sum(axis = 1)\n",
    "    # Unpad for dx1\n",
    "    dx1 = dx1_padded[:, :, 1:-1, 1:-1]\n",
    "\n",
    "\n",
    "    kernels[1] += dw1\n",
    "    bias[1] += db1\n",
    "\n"
   ]
  },
  {
   "cell_type": "markdown",
   "metadata": {},
   "source": [
    "# test data set"
   ]
  },
  {
   "cell_type": "code",
   "execution_count": 45,
   "metadata": {
    "collapsed": false
   },
   "outputs": [
    {
     "name": "stdout",
     "output_type": "stream",
     "text": [
      "testing loss= 2.30249386659\n",
      "testing accuracy 0.09\n"
     ]
    }
   ],
   "source": [
    "convnet_layer={} # this dictionary will store pooled ouput volume of each convolutional layers\n",
    "activation_output={}\n",
    "\n",
    "test_losses=[]\n",
    "test_accuracy=[]\n",
    "arr=X_test\n",
    "num_data=X_test.shape[0]\n",
    "convnet_layer[0]=arr\n",
    "\n",
    "\n",
    "W1 = W_mlp[1]\n",
    "b1 = b_mlp[1]\n",
    "W2 = W_mlp[2]\n",
    "b2 = b_mlp[2]\n",
    "\n",
    "for i in range(1,N_conv+1):\n",
    "    if i==1:\n",
    "        #print(\"CONVOLUTIONAL LAYER\",i)\n",
    "        # filter size\n",
    "        F=5\n",
    "        # no. of kernels\n",
    "        N=32\n",
    "        # stride\n",
    "        S=1\n",
    "        # padding\n",
    "        pad=int((F-1)/2)\n",
    "        # pooling size\n",
    "        pool=2\n",
    "        # pooling stride\n",
    "        pool_S=2\n",
    "        arra=convnet_layer[i-1]\n",
    "        activation_output[i],convnet_layer[i]=convolutional_layer(S,N,F,pool,pool_S,pad,arr=convnet_layer[i-1],kernels=kernels[i],bias=bias[i])\n",
    "    if i==2:\n",
    "        #print(\"CONVOLUTIONAL LAYER\",i)\n",
    "        # filter size\n",
    "        F=5\n",
    "        # no. of kernels\n",
    "        N=64\n",
    "        # stride\n",
    "        S=1\n",
    "        # padding\n",
    "        pad=int((F-1)/2)\n",
    "        # pooling size\n",
    "        pool=2\n",
    "        # pooling stride\n",
    "        pool_S=2\n",
    "        arra=convnet_layer[i-1]\n",
    "        activation_output[i],convnet_layer[i]=convolutional_layer(S,N,F,pool,pool_S,pad,arr=convnet_layer[i-1],kernels=kernels[i],bias=bias[i])\n",
    "    \n",
    "#################################################################\n",
    "# unraveling\n",
    "##################################################################\n",
    "z=convnet_layer[N_conv]\n",
    "conv_output=z\n",
    "# reshaping convolutional output into vector\n",
    "conv_vec=np.reshape(conv_output,(num_data,-1))\n",
    "    \n",
    "# size of input layer\n",
    "nodes=1024\n",
    "fc_in=np.dot(conv_vec,weight)  \n",
    "\n",
    "##########################################################    \n",
    "X=fc_in\n",
    "input_size=X.shape[1]\n",
    "hidden_size=500\n",
    "output_size=10\n",
    "\n",
    "relu=lambda x: np.maximum(0,x)\n",
    "h1=relu(np.dot(X,W1)+b1)\n",
    "h2=np.dot(h1,W2)+b2\n",
    "scores=h2\n",
    "\n",
    "\n",
    "###softmax loss\n",
    "scores -=np.reshape(np.max(scores,axis=1),(num_data,1))\n",
    "p = np.exp(scores) / np.sum(np.exp(scores), axis=1, keepdims=True)\n",
    "index_correct_class=[range(num_data),np.argmax(y_test,axis=1)] #indexes of correct class\n",
    "correct_class_score= np.reshape(p[index_correct_class[0],index_correct_class[1]],(num_data,1))\n",
    "\n",
    "loss = np.sum(-np.log(correct_class_score))\n",
    "loss /= num_data\n",
    "    \n",
    "reg=5e-6\n",
    "loss += reg * (np.sum(W1 * W1) + np.sum(W2 * W2))\n",
    "print(\"testing loss=\",loss)\n",
    "\n",
    "    \n",
    "# training accuracy\n",
    "test_acc = (np.argmax(h2,1) == np.argmax(y_test,1)).mean()\n",
    "print('testing accuracy',test_acc)\n",
    "\n",
    "    \n",
    "    \n",
    "   \n",
    "\n"
   ]
  },
  {
   "cell_type": "code",
   "execution_count": 46,
   "metadata": {
    "collapsed": false
   },
   "outputs": [
    {
     "data": {
      "text/plain": [
       "<matplotlib.legend.Legend at 0x7efd78d04128>"
      ]
     },
     "execution_count": 46,
     "metadata": {},
     "output_type": "execute_result"
    },
    {
     "data": {
      "image/png": "[encoded data removed]",
      "text/plain": [
       "<matplotlib.figure.Figure at 0x7efd78d04a20>"
      ]
     },
     "metadata": {},
     "output_type": "display_data"
    }
   ],
   "source": [
    "\n",
    "plt.plot(range(epoch),losses,label='training loss')\n",
    "plt.xlabel('epoch')\n",
    "plt.ylabel('training loss')\n",
    "plt.legend()"
   ]
  },
  {
   "cell_type": "code",
   "execution_count": 47,
   "metadata": {
    "collapsed": false
   },
   "outputs": [
    {
     "data": {
      "text/plain": [
       "<matplotlib.legend.Legend at 0x7efd7b434ac8>"
      ]
     },
     "execution_count": 47,
     "metadata": {},
     "output_type": "execute_result"
    },
    {
     "data": {
      "image/png": "[encoded data removed]",
      "text/plain": [
       "<matplotlib.figure.Figure at 0x7efd7b4b6828>"
      ]
     },
     "metadata": {},
     "output_type": "display_data"
    }
   ],
   "source": [
    "plt.plot(range(epoch),train_accuracy,label='training accuracy')\n",
    "plt.xlabel('epoch')\n",
    "plt.ylabel('training accuracy')\n",
    "plt.legend()"
   ]
  },
  {
   "cell_type": "code",
   "execution_count": null,
   "metadata": {
    "collapsed": true
   },
   "outputs": [],
   "source": []
  }
 ],
 "metadata": {
  "kernelspec": {
   "display_name": "Python 3",
   "language": "python",
   "name": "python3"
  },
  "language_info": {
   "codemirror_mode": {
    "name": "ipython",
    "version": 3
   },
   "file_extension": ".py",
   "mimetype": "text/x-python",
   "name": "python",
   "nbconvert_exporter": "python",
   "pygments_lexer": "ipython3",
   "version": "3.5.2"
  }
 },
 "nbformat": 4,
 "nbformat_minor": 2
}
